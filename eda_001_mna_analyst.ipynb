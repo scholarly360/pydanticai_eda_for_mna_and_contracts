{
 "cells": [
  {
   "cell_type": "markdown",
   "metadata": {},
   "source": [
    "M&A Results ::\n",
    "\n",
    "Results are the final values returned from running an agent (We will run on News Snippets)"
   ]
  },
  {
   "cell_type": "code",
   "execution_count": 1,
   "metadata": {},
   "outputs": [
    {
     "data": {
      "text/plain": [
       "True"
      ]
     },
     "execution_count": 1,
     "metadata": {},
     "output_type": "execute_result"
    }
   ],
   "source": [
    "from dotenv import load_dotenv\n",
    "from pprint import pprint\n",
    "load_dotenv()"
   ]
  },
  {
   "cell_type": "code",
   "execution_count": 2,
   "metadata": {},
   "outputs": [],
   "source": [
    "import nest_asyncio\n",
    "nest_asyncio.apply()"
   ]
  },
  {
   "cell_type": "code",
   "execution_count": 3,
   "metadata": {},
   "outputs": [],
   "source": [
    "from pydantic_ai import Agent\n",
    "from pydantic_ai.models.openai import OpenAIModel\n",
    "model = OpenAIModel('gpt-4o-mini')\n",
    "from pydantic import BaseModel\n",
    "from pydantic import Field"
   ]
  },
  {
   "cell_type": "code",
   "execution_count": 4,
   "metadata": {},
   "outputs": [],
   "source": [
    "class MnADetails(BaseModel):\n",
    "    acquirer : str = Field(description=\"Acquirer Name for MnA deal\")\n",
    "    target: str = Field(description=\"Target Name for MnA deal\")\n",
    "    deal_size: str = Field(description=\"Deal Size for MnA deal mentioned as amount\")\n",
    "    deal_currency: str = Field(description=\"Deal Currency for MnA deal\")\n",
    "\n",
    "agent = Agent(model, result_type=MnADetails, system_prompt=(\"You are a financial analyst for M&Adeals\"))"
   ]
  },
  {
   "cell_type": "code",
   "execution_count": 5,
   "metadata": {},
   "outputs": [
    {
     "name": "stdout",
     "output_type": "stream",
     "text": [
      "MnADetails(acquirer='Pricol', target='Sundaram Auto Components Ltd (SACL)', deal_size='₹215 crore', deal_currency='INR')\n"
     ]
    }
   ],
   "source": [
    "\n",
    "mna_news = \"\"\"\n",
    "Coimbatore-headquartered Pricol, a leading player in dashboard instruments and driver information systems, is set to acquire the injection-moulded plastic components division of Sundaram Auto Components Ltd (SACL), a subsidiary of TVS Motor Company, through a slump sale for ₹215 crore.\n",
    "\"\"\"\n",
    "\n",
    "\n",
    "result = agent.run_sync(mna_news)\n",
    "pprint(result.data)"
   ]
  },
  {
   "cell_type": "code",
   "execution_count": 6,
   "metadata": {},
   "outputs": [
    {
     "name": "stdout",
     "output_type": "stream",
     "text": [
      "MnADetails(acquirer='Hinduja Tech', target='TECOSIM Group', deal_size='not disclosed', deal_currency='not disclosed')\n"
     ]
    }
   ],
   "source": [
    "\n",
    "mna_news = \"\"\"\n",
    "Ashok Leyland subsidiary Hinduja Tech completes acquisition of TECOSIM Group\n",
    "\n",
    "\"\"\"\n",
    "\n",
    "result = agent.run_sync(mna_news)\n",
    "pprint(result.data)"
   ]
  },
  {
   "cell_type": "code",
   "execution_count": 7,
   "metadata": {},
   "outputs": [
    {
     "name": "stdout",
     "output_type": "stream",
     "text": [
      "[SystemPrompt(content='You are a financial analyst for M&Adeals',\n",
      "              role='system'),\n",
      " UserPrompt(content='\\n'\n",
      "                    'Ashok Leyland subsidiary Hinduja Tech completes '\n",
      "                    'acquisition of TECOSIM Group\\n'\n",
      "                    '\\n',\n",
      "            timestamp=datetime.datetime(2024, 12, 7, 11, 23, 17, 550509, tzinfo=datetime.timezone.utc),\n",
      "            role='user'),\n",
      " ModelStructuredResponse(calls=[ToolCall(tool_name='final_result',\n",
      "                                         args=ArgsJson(args_json='{\"acquirer\":\"Hinduja '\n",
      "                                                                 'Tech\",\"target\":\"TECOSIM '\n",
      "                                                                 'Group\",\"deal_size\":\"not '\n",
      "                                                                 'disclosed\",\"deal_currency\":\"not '\n",
      "                                                                 'disclosed\"}'),\n",
      "                                         tool_id='call_cVz0p4qslN6d4gyD2oY73wzY')],\n",
      "                         timestamp=datetime.datetime(2024, 12, 7, 11, 23, 13, tzinfo=datetime.timezone.utc),\n",
      "                         role='model-structured-response')]\n"
     ]
    }
   ],
   "source": [
    "\n",
    "pprint(result.all_messages())"
   ]
  }
 ],
 "metadata": {
  "kernelspec": {
   "display_name": "Python 3",
   "language": "python",
   "name": "python3"
  },
  "language_info": {
   "codemirror_mode": {
    "name": "ipython",
    "version": 3
   },
   "file_extension": ".py",
   "mimetype": "text/x-python",
   "name": "python",
   "nbconvert_exporter": "python",
   "pygments_lexer": "ipython3",
   "version": "3.12.7"
  }
 },
 "nbformat": 4,
 "nbformat_minor": 2
}
