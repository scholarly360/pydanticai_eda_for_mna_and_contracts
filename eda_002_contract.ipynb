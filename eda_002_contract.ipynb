{
 "cells": [
  {
   "cell_type": "markdown",
   "metadata": {},
   "source": [
    "Extract information using PyMuPDF\n",
    "\n",
    "\n",
    "\n"
   ]
  },
  {
   "cell_type": "code",
   "execution_count": 1,
   "metadata": {},
   "outputs": [
    {
     "data": {
      "text/plain": [
       "True"
      ]
     },
     "execution_count": 1,
     "metadata": {},
     "output_type": "execute_result"
    }
   ],
   "source": [
    "from dotenv import load_dotenv\n",
    "from pprint import pprint\n",
    "import pymupdf4llm\n",
    "\n",
    "load_dotenv()\n"
   ]
  },
  {
   "cell_type": "code",
   "execution_count": 4,
   "metadata": {},
   "outputs": [
    {
     "name": "stdout",
     "output_type": "stream",
     "text": [
      "Processing sample.pdf...\n",
      "[                                        ] (0/2===================[====================                    ] (1/2===================[========================================] (2/2]\n",
      "('## This draft agreement is subject to change/fine tuning before\\n'\n",
      " '\\n'\n",
      " ' final award of the contract\\n'\n",
      " '\\n'\n",
      " '# (Sample Contract Agreement)\\n'\n",
      " '\\n'\n",
      " '## AGREEMENT FOR HALL OF RESIDENCE NO. – __\\n'\n",
      " '\\n'\n",
      " '**THIS AGREEMENT has been made on this __[th] day of October, 2012 at IIT '\n",
      " 'Kanpur**\\n'\n",
      " '\\n'\n",
      " '**BETWEEN Indian Institute of Technology Kanpur (hereinafter referred to as '\n",
      " 'the Institute)**\\n'\n",
      " '\\n'\n",
      " 'incorporated as a body of corporate under the Institute of Technology Act, '\n",
      " '1961, through\\n'\n",
      " '\\n'\n",
      " 'its Director (represented by Dean of Students’ Affairs, Chairman, Council of '\n",
      " 'Wardens &\\n'\n",
      " '\\n'\n",
      " 'Warden-in-Charge/Warden of Hall of Residence No.-__.)\\n'\n",
      " '\\n'\n",
      " '**AND M/s __________ registered under ________________________ and having '\n",
      " 'it’s office**\\n'\n",
      " '\\n'\n",
      " 'at __________________________________________________ (hereinafter referred '\n",
      " 'to as\\n'\n",
      " '\\n'\n",
      " 'The Service Provider which expression shall include his/their respective '\n",
      " 'heirs, executors,\\n'\n",
      " '\\n'\n",
      " 'administrators and assignees), represented by _____________________________ '\n",
      " 'on the\\n'\n",
      " '\\n'\n",
      " 'other part.\\n'\n",
      " '\\n'\n",
      " '**AND whereas the Institute has empanelled some agencies for providing '\n",
      " 'operational**\\n'\n",
      " '\\n'\n",
      " 'services to its mess of Halls of Residence as per the terms and conditions, '\n",
      " 'specifications and\\n'\n",
      " '\\n'\n",
      " 'general conditions of the contract, as attached along with this agreement.\\n'\n",
      " '\\n'\n",
      " '**AND whereas the said terms and conditions, specifications as well as the '\n",
      " 'scope of work to**\\n'\n",
      " '\\n'\n",
      " 'be done, as set out in the General Conditions of the contract, have been '\n",
      " 'accepted and\\n'\n",
      " '\\n'\n",
      " 'signed by the Service Provider.\\n'\n",
      " '\\n'\n",
      " '\\n'\n",
      " '-----\\n'\n",
      " '\\n'\n",
      " '**AND whereas the Service Provider has agreed to execute, upon and subject '\n",
      " 'to the**\\n'\n",
      " '\\n'\n",
      " 'condition set forth herein, (hereinafter referred to as the said conditions) '\n",
      " 'the work shown in\\n'\n",
      " '\\n'\n",
      " 'the General Conditions of the Contract.\\n'\n",
      " '\\n'\n",
      " '**AND whereas the Service Provider has deposited a sum of Rs. __________ '\n",
      " '(___ lakhs only)**\\n'\n",
      " '\\n'\n",
      " 'as earnest money in the form of a Demand Draft No. ________ dated _______ '\n",
      " 'issued by\\n'\n",
      " '\\n'\n",
      " '___________________ in favour of Hall Management, IIT Kanpur payable at UBI, '\n",
      " 'I.I.T.\\n'\n",
      " '\\n'\n",
      " 'Branch Kanpur as performance guarantee for the said work and has agreed that '\n",
      " 'this be\\n'\n",
      " '\\n'\n",
      " 'retained by the Institute as part of Security Deposit of Rs. 5,00,000/- '\n",
      " '(Five Lakhs only)\\n'\n",
      " '\\n'\n",
      " '**AND whereas the Service Provider has promised to deposit Rs. __________ '\n",
      " '(_____ lakhs**\\n'\n",
      " '\\n'\n",
      " 'only) as remaining part of the security deposit in the form of a Bank Draft '\n",
      " 'latest by\\n'\n",
      " '\\n'\n",
      " '__________\\n'\n",
      " '\\n'\n",
      " '**AND** whereas in pursuance thereof the Service Provider has commenced the '\n",
      " 'work with\\n'\n",
      " '\\n'\n",
      " 'effect from October 01, 2012.\\n'\n",
      " '\\n'\n",
      " '**NOW therefore it is hereby agreed as follows:**\\n'\n",
      " '\\n'\n",
      " '**1.** In consideration of the payments to be made to the Service Provider, '\n",
      " 'as\\n'\n",
      " '\\n'\n",
      " 'hereinafter provided and agreed to by both the parties, the Service Provider '\n",
      " 'shall\\n'\n",
      " '\\n'\n",
      " 'upon and subject to the said condition execute and complete the contract.\\n'\n",
      " '\\n'\n",
      " '**2.** The Institute shall pay the Service Provider such sums as shall '\n",
      " 'become payable\\n'\n",
      " '\\n'\n",
      " 'hereunder at the time and in the manner specified in the said conditions.\\n'\n",
      " '\\n'\n",
      " '**3.** The Quality of performance related to the work is the essence of the '\n",
      " 'Contract and\\n'\n",
      " '\\n'\n",
      " 'in the event of failure to perform as per term and conditions of the '\n",
      " 'Contract and\\n'\n",
      " '\\n'\n",
      " 'to the satisfaction of the Institute; the Service Provider shall be '\n",
      " 'penalized as per\\n'\n",
      " '\\n'\n",
      " 'provisions of the Contract.\\n'\n",
      " '\\n'\n",
      " '**4.** The scope of work and prices Schedule of Quantities and conditions '\n",
      " 'shall be\\n'\n",
      " '\\n'\n",
      " 'according to the terms and conditions of this contract and the decision of '\n",
      " 'the\\n'\n",
      " '\\n'\n",
      " 'mutually agreed sole Arbitrator as appointed by the Deputy Director of the\\n'\n",
      " '\\n'\n",
      " '\\n'\n",
      " '-----\\n'\n",
      " '\\n')\n"
     ]
    }
   ],
   "source": [
    "md_text = pymupdf4llm.to_markdown(\"sample.pdf\")\n",
    "pprint(md_text)"
   ]
  },
  {
   "cell_type": "code",
   "execution_count": 3,
   "metadata": {},
   "outputs": [],
   "source": [
    "import nest_asyncio\n",
    "nest_asyncio.apply()\n"
   ]
  },
  {
   "cell_type": "code",
   "execution_count": 8,
   "metadata": {},
   "outputs": [],
   "source": [
    "from pydantic_ai import Agent\n",
    "from pydantic_ai.models.openai import OpenAIModel\n",
    "model = OpenAIModel('gpt-4o-mini')\n",
    "from pydantic import BaseModel\n",
    "from pydantic import Field\n",
    "from typing import Optional, List"
   ]
  },
  {
   "cell_type": "code",
   "execution_count": 9,
   "metadata": {},
   "outputs": [],
   "source": [
    "class ContractAnalysis(BaseModel):\n",
    "    parties : Optional[List[str]] = Field(description=\"parties in a contract\")\n",
    "    agreement_date: str = Field(description=\"agreement date\")\n",
    "\n",
    "\n",
    "agent = Agent(model, result_type=ContractAnalysis, system_prompt=(\"You are a Business Lawyer\"))"
   ]
  },
  {
   "cell_type": "code",
   "execution_count": 10,
   "metadata": {},
   "outputs": [
    {
     "name": "stdout",
     "output_type": "stream",
     "text": [
      "ContractAnalysis(parties=['Indian Institute of Technology Kanpur', 'M/s __________'], agreement_date='October 1, 2012')\n"
     ]
    }
   ],
   "source": [
    "\n",
    "result = agent.run_sync(md_text)\n",
    "pprint(result.data)"
   ]
  }
 ],
 "metadata": {
  "kernelspec": {
   "display_name": "Python 3",
   "language": "python",
   "name": "python3"
  },
  "language_info": {
   "codemirror_mode": {
    "name": "ipython",
    "version": 3
   },
   "file_extension": ".py",
   "mimetype": "text/x-python",
   "name": "python",
   "nbconvert_exporter": "python",
   "pygments_lexer": "ipython3",
   "version": "3.12.7"
  }
 },
 "nbformat": 4,
 "nbformat_minor": 2
}
